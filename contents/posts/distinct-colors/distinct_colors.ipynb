{
 "cells": [
  {
   "attachments": {},
   "cell_type": "markdown",
   "metadata": {},
   "source": [
    "---\n",
    "draft: true\n",
    "---"
   ]
  },
  {
   "cell_type": "code",
   "execution_count": null,
   "metadata": {},
   "outputs": [],
   "source": [
    "import colour\n",
    "import matplotlib.pyplot as plt\n",
    "import numpy as np\n",
    "import scipy\n",
    "from colorspacious import cspace_convert, deltaE\n",
    "from colour.plotting import ColourSwatch, plot_multi_colour_swatches\n",
    "from scipy.optimize import differential_evolution as optimizer"
   ]
  },
  {
   "cell_type": "code",
   "execution_count": null,
   "metadata": {},
   "outputs": [],
   "source": [
    "lab1 = np.array([100.00000000, 21.57210357, 272.22819350])\n",
    "lab2 = np.array([100.00000000, 426.67945353, 72.39590835])\n",
    "colour.delta_E(lab1, lab2, method=\"CAM02-UCS\")"
   ]
  },
  {
   "cell_type": "code",
   "execution_count": null,
   "metadata": {},
   "outputs": [],
   "source": [
    "RGB_1 = ColourSwatch((0.45293517, 0.31732158, 0.26414773))\n",
    "RGB_2 = ColourSwatch((0.77875824, 0.57726450, 0.50453169))\n",
    "plot_multi_colour_swatches([RGB_1, RGB_2])"
   ]
  },
  {
   "cell_type": "code",
   "execution_count": null,
   "metadata": {},
   "outputs": [],
   "source": [
    "deltaE([255, 127, 127], [127, 255, 127], input_space=\"sRGB255\")"
   ]
  },
  {
   "cell_type": "code",
   "execution_count": null,
   "metadata": {},
   "outputs": [],
   "source": [
    "cvd_space = {\"name\": \"sRGB1+CVD\", \"cvd_type\": \"protanomaly\", \"severity\": 50}\n",
    "\n",
    "sRGB_1 = [255, 127, 127]\n",
    "sRGB_2 = [255, 13, 19]\n",
    "\n",
    "colors = [sRGB_1, sRGB_2]\n",
    "\n",
    "\n",
    "fig, ax = plt.subplots(1, 1)\n",
    "\n",
    "for i, color in enumerate(colors):\n",
    "    ax.bar(i, 1, color=np.array(color) / 255)\n",
    "\n",
    "plt.show()"
   ]
  },
  {
   "cell_type": "code",
   "execution_count": null,
   "metadata": {},
   "outputs": [],
   "source": [
    "def functional(colors):\n",
    "    n = len(colors) // 3\n",
    "    rgbs = [[colors[3 * i], colors[3 * i + 1], colors[3 * i + 2]] for i in range(n)]\n",
    "    # compute pairwise distances\n",
    "\n",
    "    rgbs = [np.clip(cspace_convert(rgb, cvd_space, \"sRGB1\"), 0, 255) for rgb in rgbs]\n",
    "\n",
    "    min_delta = 1e10\n",
    "    for i in range(n):\n",
    "        for j in range(i):\n",
    "            deltaij = deltaE(rgbs[i], rgbs[j], input_space=\"sRGB255\")\n",
    "            # delta = min(delta, deltaij)\n",
    "            # delta += deltaij\n",
    "            # deltas.append(deltaij)\n",
    "            min_delta = min(min_delta, deltaij)\n",
    "\n",
    "    return -min_delta"
   ]
  },
  {
   "cell_type": "code",
   "execution_count": null,
   "metadata": {},
   "outputs": [],
   "source": [
    "n = 5\n",
    "res = optimizer(functional, bounds=[(0, 255) for _ in range(3 * n)])"
   ]
  },
  {
   "cell_type": "code",
   "execution_count": null,
   "metadata": {},
   "outputs": [],
   "source": [
    "fig, axs = plt.subplots(2, 1)\n",
    "rgbs = [[res.x[3 * i], res.x[3 * i + 1], res.x[3 * i + 2]] for i in range(n)]\n",
    "for i, rgb in enumerate(rgbs):\n",
    "    axs[0].bar(i, 1, color=np.array(rgb) / 255)\n",
    "    axs[1].bar(i, 1, color=np.clip(cspace_convert(rgb, cvd_space, \"sRGB1\") / 255, 0, 1))\n",
    "plt.show()"
   ]
  },
  {
   "cell_type": "code",
   "execution_count": null,
   "metadata": {},
   "outputs": [],
   "source": []
  },
  {
   "cell_type": "code",
   "execution_count": null,
   "metadata": {},
   "outputs": [],
   "source": []
  }
 ],
 "metadata": {
  "kernelspec": {
   "display_name": ".venv",
   "language": "python",
   "name": "python3"
  },
  "language_info": {
   "codemirror_mode": {
    "name": "ipython",
    "version": 3
   },
   "file_extension": ".py",
   "mimetype": "text/x-python",
   "name": "python",
   "nbconvert_exporter": "python",
   "pygments_lexer": "ipython3",
   "version": "3.10.10"
  }
 },
 "nbformat": 4,
 "nbformat_minor": 2
}
